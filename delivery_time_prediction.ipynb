{
 "cells": [
  {
   "cell_type": "code",
   "execution_count": null,
   "id": "7276d8e5-b91b-4c06-bccf-732a0c7dddd4",
   "metadata": {},
   "outputs": [],
   "source": []
  }
 ],
 "metadata": {
  "kernelspec": {
   "display_name": "",
   "name": ""
  },
  "language_info": {
   "name": ""
  }
 },
 "nbformat": 4,
 "nbformat_minor": 5
}
